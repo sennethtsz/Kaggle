{
 "cells": [
  {
   "cell_type": "code",
   "execution_count": 23,
   "metadata": {},
   "outputs": [],
   "source": [
    "%matplotlib inline\n",
    "\n",
    "import matplotlib\n",
    "import seaborn as sns\n",
    "import pandas as pd\n",
    "import numpy as np\n",
    "import gzip\n",
    "\n",
    "matplotlib.rcParams['savefig.dpi'] = 144"
   ]
  },
  {
   "cell_type": "markdown",
   "metadata": {},
   "source": [
    "**Load Data**"
   ]
  },
  {
   "cell_type": "code",
   "execution_count": null,
   "metadata": {},
   "outputs": [],
   "source": [
    "!mkdir dw-data\n",
    "!wget http://dataincubator-wqu.s3.amazonaws.com/dwdata/201701scripts_sample.csv.gz -nc -P ./dw-data/\n",
    "!wget http://dataincubator-wqu.s3.amazonaws.com/dwdata/201606scripts_sample.csv.gz -nc -P ./dw-data/\n",
    "!wget http://dataincubator-wqu.s3.amazonaws.com/dwdata/practices.csv.gz -nc -P ./dw-data/\n",
    "!wget http://dataincubator-wqu.s3.amazonaws.com/dwdata/chem.csv.gz -nc -P ./dw-data/"
   ]
  },
  {
   "cell_type": "code",
   "execution_count": 26,
   "metadata": {},
   "outputs": [],
   "source": [
    "with gzip.open('./dw-data/201701scripts_sample.csv.gz', 'rb') as f:\n",
    "    scripts = pd.read_csv(f)\n",
    "\n",
    "with gzip.open('./dw-data/201606scripts_sample.csv.gz', 'rb') as f:\n",
    "    scripts1 = pd.read_csv(f)"
   ]
  },
  {
   "cell_type": "code",
   "execution_count": 27,
   "metadata": {},
   "outputs": [],
   "source": [
    "col_names=[ 'code', 'name', 'addr_1', 'addr_2', 'borough', 'village', 'post_code']\n",
    "with gzip.open('./dw-data/practices.csv.gz', 'rb') as f:\n",
    "    practices = pd.read_csv(f, names=col_names)"
   ]
  },
  {
   "cell_type": "code",
   "execution_count": 28,
   "metadata": {},
   "outputs": [],
   "source": [
    "with gzip.open('./dw-data/chem.csv.gz', 'rb') as f:\n",
    "    chem = pd.read_csv(f)"
   ]
  },
  {
   "cell_type": "markdown",
   "metadata": {},
   "source": [
    "**EDA**"
   ]
  },
  {
   "cell_type": "code",
   "execution_count": null,
   "metadata": {},
   "outputs": [],
   "source": [
    "def describe(x):\n",
    "    a = scripts[x]\n",
    "    return a.sum(), a.describe()['mean'], a.describe()['std'], a.describe()['25%'], a.describe()['50%'], a.describe()['75%']\n",
    "\n",
    "def summary_stats():\n",
    "    return [('items', (describe('items'))), ('quantity', (describe('quantity'))), ('nic', (describe('nic'))),\n",
    "            ('act_cost', (describe('act_cost')))]"
   ]
  },
  {
   "cell_type": "code",
   "execution_count": null,
   "metadata": {
    "hidden": true
   },
   "outputs": [],
   "source": [
    "bnf_group = scripts.groupby('bnf_name')\n",
    "item_total = bnf_group['items'].agg('sum')\n",
    "print(item_total.argmax())\n",
    "print(item_total[item_total.argmax()])"
   ]
  },
  {
   "cell_type": "markdown",
   "metadata": {},
   "source": [
    "**Items by Region**"
   ]
  },
  {
   "cell_type": "code",
   "execution_count": null,
   "metadata": {},
   "outputs": [],
   "source": [
    "code = practices.groupby('code')\n",
    "code_column = []\n",
    "post_column = []\n",
    "for code, group in code:\n",
    "    code_column.append(code)\n",
    "    post_column.append(sorted(group['post_code'])[0])\n",
    "code_post_column = np.c_[code_column, post_column]\n",
    "\n",
    "code_post_column = pd.DataFrame(code_post_column, columns=['code', 'post_code'])\n",
    "merge = pd.merge(scripts, code_post_column, left_on='practice', right_on='code')\n",
    "\n",
    "merge_sort = merge.sort_values('post_code')\n",
    "\n",
    "items_by_regions = []\n",
    "\n",
    "for post_code, group in merge_sort.groupby('post_code'):\n",
    "    bnf_name_group = []\n",
    "    items_list = []\n",
    "    for bnf_name, items in group.groupby('bnf_name'):\n",
    "        items_per_name = int(sum(items['items']))\n",
    "        bnf_name_group.append(bnf_name)\n",
    "        items_list.append(items_per_name)\n",
    "    bnf_item = np.c_[bnf_name_group, items_list]\n",
    "    bnf_item = pd.DataFrame(bnf_item, columns=['name', 'item'])\n",
    "    bnf_item['item'] = pd.to_numeric(bnf_item['item'])\n",
    "    bnf_item.sort_values('item', inplace=True, ascending=False)\n",
    "    most_common_item = bnf_item.iloc[0]['name']\n",
    "    most_common_item_count = bnf_item.iloc[0]['item']\n",
    "    total_items_by_post = group['items'].sum()\n",
    "    propor = float(most_common_item_count) / float(total_items_by_post)\n",
    "    items_by_regions.append((post_code, most_common_item, propor))"
   ]
  },
  {
   "cell_type": "markdown",
   "metadata": {},
   "source": [
    "**Opioid Anomalies**"
   ]
  },
  {
   "cell_type": "code",
   "execution_count": 7,
   "metadata": {},
   "outputs": [],
   "source": [
    "opioids = ['morphine', 'oxycodone', 'methadone', 'fentanyl', 'pethidine', 'buprenorphine', 'propoxyphene', 'codeine']"
   ]
  },
  {
   "cell_type": "code",
   "execution_count": 8,
   "metadata": {},
   "outputs": [],
   "source": [
    "chem1 = chem.copy()"
   ]
  },
  {
   "cell_type": "code",
   "execution_count": 9,
   "metadata": {},
   "outputs": [],
   "source": [
    "chem1.drop_duplicates(subset='CHEM SUB', inplace=True)\n",
    "chem1['NAME'] = chem1['NAME'].str.lower()"
   ]
  },
  {
   "cell_type": "code",
   "execution_count": 10,
   "metadata": {},
   "outputs": [],
   "source": [
    "chem1['opioid_flag'] = 0\n",
    "for name in opioids:\n",
    "    chem1.loc[chem1['NAME'].str.find(name) != -1, 'opioid_flag'] = 1"
   ]
  },
  {
   "cell_type": "code",
   "execution_count": 35,
   "metadata": {
    "scrolled": true
   },
   "outputs": [
    {
     "name": "stdout",
     "output_type": "stream",
     "text": [
      "973193\n",
      "973193\n"
     ]
    }
   ],
   "source": [
    "merge_chem = pd.merge(scripts, chem1, how='left', left_index=True, left_on='bnf_code', right_on='CHEM SUB')\n",
    "merge_chem = merge_chem.drop('CHEM SUB', axis=1)\n",
    "merge_chem.NAME.fillna(False, inplace=True)\n",
    "merge_chem.opioid_flag.fillna(0, inplace=True)\n",
    "print(len(merge_chem))\n",
    "print(len(scripts))\n",
    "# merge_chem['opioid_flag'] = 0"
   ]
  },
  {
   "cell_type": "code",
   "execution_count": 36,
   "metadata": {},
   "outputs": [
    {
     "name": "stdout",
     "output_type": "stream",
     "text": [
      "0.0358027647137\n"
     ]
    }
   ],
   "source": [
    "overall_rate = merge_chem['opioid_flag'].mean()\n",
    "print(overall_rate)"
   ]
  },
  {
   "cell_type": "code",
   "execution_count": 37,
   "metadata": {
    "scrolled": true
   },
   "outputs": [],
   "source": [
    "# mean rate per practice\n",
    "opioid_scores = pd.DataFrame(merge_chem.groupby(['practice'])['opioid_flag'].mean())\n",
    "opioid_scores.columns = ['opioid_rate_ppractice']"
   ]
  },
  {
   "cell_type": "code",
   "execution_count": 38,
   "metadata": {},
   "outputs": [],
   "source": [
    "opioid_scores['relative_o_ppractice'] = opioid_scores['opioid_rate_ppractice'] - overall_rate"
   ]
  },
  {
   "cell_type": "code",
   "execution_count": 40,
   "metadata": {},
   "outputs": [],
   "source": [
    "opioid_scores['n_pprescriptions'] = pd.DataFrame(merge_chem.groupby('practice').size())"
   ]
  },
  {
   "cell_type": "code",
   "execution_count": 58,
   "metadata": {},
   "outputs": [
    {
     "data": {
      "text/plain": [
       "0.18579817605238425"
      ]
     },
     "execution_count": 58,
     "metadata": {},
     "output_type": "execute_result"
    }
   ],
   "source": [
    "stdd = merge_chem['opioid_flag'].std()\n",
    "stdd"
   ]
  },
  {
   "cell_type": "code",
   "execution_count": 42,
   "metadata": {},
   "outputs": [],
   "source": [
    "# opioid_scores['stdd'] = pd.DataFrame(merge_chem.groupby('practice')['opioid_flag'].std())"
   ]
  },
  {
   "cell_type": "code",
   "execution_count": 59,
   "metadata": {},
   "outputs": [],
   "source": [
    "opioid_scores['sqrt_n_pprescriptions'] = np.sqrt(opioid_scores['n_pprescriptions'])"
   ]
  },
  {
   "cell_type": "code",
   "execution_count": 60,
   "metadata": {},
   "outputs": [],
   "source": [
    "opioid_scores['std_error'] = stdd / opioid_scores['sqrt_n_pprescriptions']"
   ]
  },
  {
   "cell_type": "code",
   "execution_count": 61,
   "metadata": {},
   "outputs": [],
   "source": [
    "opioid_scores['z-score'] = opioid_scores['relative_o_ppractice'] / opioid_scores['std_error']"
   ]
  },
  {
   "cell_type": "code",
   "execution_count": 63,
   "metadata": {
    "scrolled": true
   },
   "outputs": [],
   "source": [
    "merge_chem = pd.merge(merge_chem, practices, how='left', left_index=True, left_on='practice', right_on='code')"
   ]
  },
  {
   "cell_type": "code",
   "execution_count": 64,
   "metadata": {},
   "outputs": [],
   "source": [
    "merge_chem = pd.merge(merge_chem, opioid_scores, left_on='practice', right_index=True)"
   ]
  },
  {
   "cell_type": "code",
   "execution_count": 65,
   "metadata": {
    "scrolled": true
   },
   "outputs": [],
   "source": [
    "anomalies = []\n",
    "for practice, group in merge_chem.groupby('practice'):\n",
    "    anomalies.append((group['name'].iloc[0], group['z-score'].iloc[0], group['n_pprescriptions'].iloc[0]))"
   ]
  },
  {
   "cell_type": "code",
   "execution_count": 66,
   "metadata": {
    "scrolled": false
   },
   "outputs": [],
   "source": [
    "anomalies = sorted(anomalies, key=lambda x: x[1], reverse=True)"
   ]
  }
 ],
 "metadata": {
  "kernelspec": {
   "display_name": "Python 3",
   "language": "python",
   "name": "python3"
  },
  "language_info": {
   "codemirror_mode": {
    "name": "ipython",
    "version": 3
   },
   "file_extension": ".py",
   "mimetype": "text/x-python",
   "name": "python",
   "nbconvert_exporter": "python",
   "pygments_lexer": "ipython3",
   "version": "3.6.6"
  }
 },
 "nbformat": 4,
 "nbformat_minor": 2
}
