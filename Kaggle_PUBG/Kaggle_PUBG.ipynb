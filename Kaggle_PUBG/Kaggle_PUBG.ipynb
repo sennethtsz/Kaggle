{
 "cells": [
  {
   "cell_type": "code",
   "execution_count": null,
   "metadata": {
    "_cell_guid": "b1076dfc-b9ad-4769-8c92-a6c4dae69d19",
    "_uuid": "8f2839f25d086af736a60e9eeb907d3b93b6e0e5"
   },
   "outputs": [],
   "source": [
    "%matplotlib inline\n",
    "import warnings\n",
    "warnings.simplefilter(action='ignore', category=FutureWarning)\n",
    "import numpy as np \n",
    "import pandas as pd \n",
    "import seaborn as sns\n",
    "import matplotlib.pyplot as plt\n",
    "\n",
    "import os\n",
    "print(os.listdir(\"../input\"))"
   ]
  },
  {
   "cell_type": "code",
   "execution_count": null,
   "metadata": {
    "_cell_guid": "79c7e3d0-c299-4dcb-8224-4455121ee9b0",
    "_kg_hide-input": false,
    "_uuid": "d629ff2d2480ee46fbb7e2d37f6b5fab8052498a"
   },
   "outputs": [],
   "source": [
    "def reduce_mem_usage(df):\n",
    "    \"\"\" iterate through all the columns of a dataframe and modify the data type\n",
    "        to reduce memory usage.        \n",
    "    \"\"\"\n",
    "    start_mem = df.memory_usage().sum() / 1024**2\n",
    "    print('Memory usage of dataframe is {:.2f} MB'.format(start_mem))\n",
    "    \n",
    "    for col in df.columns:\n",
    "        col_type = df[col].dtype\n",
    "        \n",
    "        if col_type != object:\n",
    "            c_min = df[col].min()\n",
    "            c_max = df[col].max()\n",
    "            if str(col_type)[:3] == 'int':\n",
    "                if c_min > np.iinfo(np.int8).min and c_max < np.iinfo(np.int8).max:\n",
    "                    df[col] = df[col].astype(np.int8)\n",
    "                elif c_min > np.iinfo(np.int16).min and c_max < np.iinfo(np.int16).max:\n",
    "                    df[col] = df[col].astype(np.int16)\n",
    "                elif c_min > np.iinfo(np.int32).min and c_max < np.iinfo(np.int32).max:\n",
    "                    df[col] = df[col].astype(np.int32)\n",
    "                elif c_min > np.iinfo(np.int64).min and c_max < np.iinfo(np.int64).max:\n",
    "                    df[col] = df[col].astype(np.int64)  \n",
    "            else:\n",
    "                if c_min > np.finfo(np.float16).min and c_max < np.finfo(np.float16).max:\n",
    "                    df[col] = df[col].astype(np.float16)\n",
    "                elif c_min > np.finfo(np.float32).min and c_max < np.finfo(np.float32).max:\n",
    "                    df[col] = df[col].astype(np.float32)\n",
    "                else:\n",
    "                    df[col] = df[col].astype(np.float64)\n",
    "        else:\n",
    "            df[col] = df[col].astype('category')\n",
    "\n",
    "    end_mem = df.memory_usage().sum() / 1024**2\n",
    "    print('Memory usage after optimization is: {:.2f} MB'.format(end_mem))\n",
    "    print('Decreased by {:.1f}%'.format(100 * (start_mem - end_mem) / start_mem))\n",
    "    \n",
    "    return df"
   ]
  },
  {
   "cell_type": "code",
   "execution_count": null,
   "metadata": {
    "_uuid": "281ae9e3ec0a9ffe08d81d71d0378cf9990913a0"
   },
   "outputs": [],
   "source": [
    "def import_data(file):\n",
    "    \"\"\"create a dataframe and optimize its memory usage\"\"\"\n",
    "    df = pd.read_csv(file, parse_dates=True, keep_date_col=True)\n",
    "    df = reduce_mem_usage(df)\n",
    "    return df\n",
    "# courtesy of Guillaume Martin https://www.kaggle.com/gemartin"
   ]
  },
  {
   "cell_type": "code",
   "execution_count": null,
   "metadata": {
    "_uuid": "95a45300b5062d55f63bf90b5a8086875c58c43a"
   },
   "outputs": [],
   "source": [
    "# train_x = import_data('../input/train.csv')"
   ]
  },
  {
   "cell_type": "code",
   "execution_count": null,
   "metadata": {
    "_uuid": "d84cc2a5e61aa969bf187845f29925ac7d386239"
   },
   "outputs": [],
   "source": [
    "train_x = pd.read_csv('../input/train.csv')"
   ]
  },
  {
   "cell_type": "code",
   "execution_count": null,
   "metadata": {
    "_uuid": "e6163aad0cb28d1e3e1f824d8aeed4532f32dbc3",
    "scrolled": false
   },
   "outputs": [],
   "source": [
    "# test_x = import_data('../input/test.csv')"
   ]
  },
  {
   "cell_type": "code",
   "execution_count": null,
   "metadata": {
    "_uuid": "14550034997dc870aaef6fee60197d1a1970db5a"
   },
   "outputs": [],
   "source": [
    "test_x = pd.read_csv('../input/test.csv')"
   ]
  },
  {
   "cell_type": "markdown",
   "metadata": {
    "_uuid": "d59e09df2d743ff734d85e833a2c8da54215e284"
   },
   "source": [
    "**EDA**"
   ]
  },
  {
   "cell_type": "code",
   "execution_count": null,
   "metadata": {
    "_uuid": "a34d9fa0304094a55bcd0aabc319e181c7ea6b4b"
   },
   "outputs": [],
   "source": [
    "train_x.isnull().sum()"
   ]
  },
  {
   "cell_type": "code",
   "execution_count": null,
   "metadata": {
    "_uuid": "4c6617c6671e7425e3cc01332495e9da167b6afc"
   },
   "outputs": [],
   "source": [
    "eda = train_x.copy()"
   ]
  },
  {
   "cell_type": "code",
   "execution_count": null,
   "metadata": {
    "_uuid": "d5cf0ef259d9367a042a0f736c1ff2e5998e2eeb",
    "scrolled": true
   },
   "outputs": [],
   "source": [
    "sns.set(style='whitegrid')\n",
    "corr = train_x.corr()\n",
    "mask = np.zeros_like(corr, dtype=np.bool)\n",
    "mask[np.triu_indices_from(mask)] = True\n",
    "\n",
    "fig, ax = plt.subplots(figsize=(16, 14))\n",
    "cmap = sns.diverging_palette(145, 280, s=85, l=15, n=100)\n",
    "\n",
    "sns.heatmap(corr, mask=mask, cmap=cmap, center=0, linewidths=.5,\n",
    "            cbar_kws={'shrink': .6})\n",
    "plt.show()"
   ]
  },
  {
   "cell_type": "code",
   "execution_count": null,
   "metadata": {
    "_uuid": "fc7f1714f124096233f9fee7b0fc566e189d5711",
    "scrolled": true
   },
   "outputs": [],
   "source": [
    "train_x.corr()"
   ]
  },
  {
   "cell_type": "code",
   "execution_count": null,
   "metadata": {
    "_uuid": "f4c469150d66f4002780b0d96a343eb8887a3b93"
   },
   "outputs": [],
   "source": [
    "'''\n",
    "plot_data = train_x.sample(1000)\n",
    "sns.set(style='ticks')\n",
    "fig, ax = plt.subplots(figsize=(16,16))\n",
    "sns.pairplot(plot_data, kind='reg')\n",
    "'''"
   ]
  },
  {
   "cell_type": "code",
   "execution_count": null,
   "metadata": {
    "_uuid": "cf2f3afb453e66fa3c46812dabe751e675890700"
   },
   "outputs": [],
   "source": [
    "eda.numGroups.hist(figsize=(15, 13), bins=100)"
   ]
  },
  {
   "cell_type": "code",
   "execution_count": null,
   "metadata": {
    "_uuid": "02ddde59a6963c02613754479168eaafe0e423a0"
   },
   "outputs": [],
   "source": [
    "print('Maximum number of groups: {}.'.format(eda.numGroups.max()))"
   ]
  },
  {
   "cell_type": "code",
   "execution_count": null,
   "metadata": {
    "_uuid": "431ac04b9652fb0cf1d51bccc49f37979a1ea2d2"
   },
   "outputs": [],
   "source": [
    "eda['matchType'] = 0\n",
    "eda.loc[eda.numGroups < 101, 'matchType'] = 0  # solo\n",
    "eda.loc[eda.numGroups < 51, 'matchType'] = 1  # duo\n",
    "eda.loc[eda.numGroups < 34, 'matchType'] = 2  # tri\n",
    "eda.loc[eda.numGroups < 26, 'matchType'] = 3  # quad"
   ]
  },
  {
   "cell_type": "code",
   "execution_count": null,
   "metadata": {
    "_uuid": "6eff83df372e31ecb5bb99c7823b26e44e87a3c0"
   },
   "outputs": [],
   "source": [
    "fig, ax = plt.subplots(figsize=(15,13))\n",
    "sns.pointplot(x=\"matchType\", y='winPlacePerc', data=eda.sample(5000))\n",
    "#  queuing quad has a lower win percentage"
   ]
  },
  {
   "cell_type": "code",
   "execution_count": null,
   "metadata": {
    "_uuid": "d32af05e11b78f273849bbc92305e1665362723c"
   },
   "outputs": [],
   "source": [
    "fig, ax = plt.subplots(figsize=(15,13))\n",
    "sns.scatterplot(x='winPlacePerc', y='revives', data=eda.sample(5000))\n",
    "# slight correlation in winrate and number of revives"
   ]
  },
  {
   "cell_type": "code",
   "execution_count": null,
   "metadata": {
    "_uuid": "07438eeef100139b1363b9003b1cc83d6c349f9c"
   },
   "outputs": [],
   "source": [
    "print('Mean number of revives: {}'.format(eda.revives.mean()))\n",
    "print('Maximum number of revives: {}'.format(eda.revives.max()))\n",
    "# quite ridiculous number of revives, unless in custom matches"
   ]
  },
  {
   "cell_type": "code",
   "execution_count": null,
   "metadata": {
    "_uuid": "0cec77817ab49aba56c66145ff1904cc860e2e51",
    "scrolled": false
   },
   "outputs": [],
   "source": [
    "fig, ax = plt.subplots(figsize=(15,13))\n",
    "sns.distplot(eda.revives)"
   ]
  },
  {
   "cell_type": "code",
   "execution_count": null,
   "metadata": {
    "_uuid": "15b7bc4bf68dd1360af1b2a4d833de5bd04ffeb5",
    "scrolled": true
   },
   "outputs": [],
   "source": [
    "fig, ax = plt.subplots(figsize=(15,13))\n",
    "sns.distplot(eda.walkDistance)"
   ]
  },
  {
   "cell_type": "code",
   "execution_count": null,
   "metadata": {
    "_uuid": "285fde9ae1cc16e62fd89afb33fc1d51c12b4e4b",
    "scrolled": false
   },
   "outputs": [],
   "source": [
    "fig, ax = plt.subplots(figsize=(15,13))\n",
    "sns.scatterplot(x='winPlacePerc', y='walkDistance', data=eda.sample(5000))\n",
    "# high correlation in walk distance to winrate, which makes sense"
   ]
  },
  {
   "cell_type": "code",
   "execution_count": null,
   "metadata": {
    "_uuid": "121466ce9790ffbe9c4879b6caa30054ede284f4",
    "scrolled": false
   },
   "outputs": [],
   "source": [
    "print(\"Mean distance walked: {}\".format(eda['walkDistance'].mean()))\n",
    "print(\"Maximum distance walked: {}\".format(eda.walkDistance.max()))\n",
    "# map size is 8x8 squares of 1km each, 17km of walking distance is very far"
   ]
  },
  {
   "cell_type": "code",
   "execution_count": null,
   "metadata": {
    "_uuid": "2c95f0ebb16ecaf175ea1b95d17469ef1142fd89",
    "scrolled": true
   },
   "outputs": [],
   "source": [
    "fig, ax = plt.subplots(figsize=(15,13))\n",
    "sns.scatterplot(x='winPlacePerc', y='swimDistance', data=eda.sample(5000))\n",
    "# some correlation in swim distance to winrate"
   ]
  },
  {
   "cell_type": "code",
   "execution_count": null,
   "metadata": {
    "_uuid": "362b5ed7d7fe8d1edb1ecce2f1d8988802ef5fba",
    "scrolled": false
   },
   "outputs": [],
   "source": [
    "print(\"Mean distance swimmed: {}\".format(eda.swimDistance.mean()))\n",
    "print(\"Maximum distance swimmed: {}\".format(eda.swimDistance.max()))"
   ]
  },
  {
   "cell_type": "code",
   "execution_count": null,
   "metadata": {
    "_uuid": "c2cd83eb2634800e3773935f4b553f7117c92152",
    "scrolled": true
   },
   "outputs": [],
   "source": [
    "fig, ax = plt.subplots(figsize=(15,13))\n",
    "sns.scatterplot(x='winPlacePerc', y='rideDistance', data=eda.sample(5000))\n",
    "# some correlation in ride distance to winrate"
   ]
  },
  {
   "cell_type": "code",
   "execution_count": null,
   "metadata": {
    "_uuid": "d19f8468986663df87cd32c2d30c20c5d85e7a63",
    "scrolled": false
   },
   "outputs": [],
   "source": [
    "print(\"Mean distance rode: {}\".format(eda.rideDistance.mean()))\n",
    "print(\"Maximum distance rode: {}\".format(eda.rideDistance.max()))\n",
    "# riding 48km is riding across the map 6-7 times, which doesn't make much sense"
   ]
  },
  {
   "cell_type": "code",
   "execution_count": null,
   "metadata": {
    "_uuid": "32f05cd2ced56e54fae577a10e7ea9950f2c3756",
    "scrolled": true
   },
   "outputs": [],
   "source": [
    "fig, ax = plt.subplots(figsize=(15,13))\n",
    "sns.scatterplot(x='winPlacePerc', y='vehicleDestroys', data=eda.sample(5000))"
   ]
  },
  {
   "cell_type": "code",
   "execution_count": null,
   "metadata": {
    "_uuid": "cf9869b8ee5a46421d3f9c59b29e7cb173c6b87e",
    "scrolled": true
   },
   "outputs": [],
   "source": [
    "print(\"Mean vehicles destroyed: {}\".format(eda.vehicleDestroys.mean()))\n",
    "print(\"Maximum vehicles destroyed: {}\".format(eda.vehicleDestroys.max()))"
   ]
  },
  {
   "cell_type": "code",
   "execution_count": null,
   "metadata": {
    "_uuid": "2bffc66d737d416025828476e71034882164a439"
   },
   "outputs": [],
   "source": [
    "fig, ax = plt.subplots(figsize=(15,13))\n",
    "sns.scatterplot(x='kills', y='damageDealt', data=eda.sample(5000))"
   ]
  },
  {
   "cell_type": "code",
   "execution_count": null,
   "metadata": {
    "_uuid": "a52d547fbddfd4b2a375ef403ce9f14ba329f1f0"
   },
   "outputs": [],
   "source": [
    "print('Correlation between kills & damageDealt: {}'.format(eda[['kills', 'damageDealt']].corr()['kills'][1]))\n",
    "print('Highest kill: {}'.format(eda.kills.max()))\n",
    "# quite high correlation"
   ]
  },
  {
   "cell_type": "code",
   "execution_count": null,
   "metadata": {
    "_uuid": "00bbb2019c829fffddf6c6101fc4b6b0c6cee2dc",
    "scrolled": false
   },
   "outputs": [],
   "source": [
    "fig, ax = plt.subplots(figsize=(15,13))\n",
    "sns.set(style='whitegrid')\n",
    "sns.pointplot(x='heals', y='winPlacePerc', data=eda.sample(5000), color='blue', ax=ax)\n",
    "sns.pointplot(x='boosts', y='winPlacePerc', data=eda.sample(5000), color='orange', ax=ax)\n",
    "plt.xlabel('Heals/Boosts')\n",
    "plt.text(0, 0.98, 'Heals', color='blue', fontsize=15)\n",
    "plt.text(0, 1, 'Boosts', color='orange', fontsize=15)"
   ]
  },
  {
   "cell_type": "markdown",
   "metadata": {
    "_uuid": "e0f3144e4bb8a29e3d3fd490b0cf85307f10904b"
   },
   "source": [
    "**Feature Cleaning**"
   ]
  },
  {
   "cell_type": "code",
   "execution_count": null,
   "metadata": {
    "_uuid": "dadbc87cf132403261d18ea8810960663f0f3d45"
   },
   "outputs": [],
   "source": [
    "def featureClean(dataset):\n",
    "    dataset['matchType'] = 0\n",
    "    dataset.loc[dataset.numGroups < 101, 'matchType'] = 0  # solo\n",
    "    dataset.loc[dataset.numGroups < 51, 'matchType'] = 1  # duo\n",
    "    dataset.loc[dataset.numGroups < 34, 'matchType'] = 2  # tri\n",
    "    dataset.loc[dataset.numGroups < 26, 'matchType'] = 3  # quad\n",
    "    dataset['matchType'] = dataset['matchType'].astype('category')\n",
    "\n",
    "    dataset.loc[dataset['teamKills'] > 0, 'teamKills'] = 1  # biased data, single matchmake default 0\n",
    "    dataset['teamKills'] = dataset['teamKills'].astype('category')\n",
    "    \n",
    "    return dataset\n",
    "# numGroups replaced with matchType\n",
    "# kills & damageDealt has overly high correlation, replaced with damageDealt"
   ]
  },
  {
   "cell_type": "code",
   "execution_count": null,
   "metadata": {
    "_uuid": "6b103007fa66ef4601d91752b69cd2b965b94584"
   },
   "outputs": [],
   "source": [
    "from sklearn.pipeline import Pipeline\n",
    "from sklearn.preprocessing import StandardScaler\n",
    "from sklearn.base import TransformerMixin, BaseEstimator"
   ]
  },
  {
   "cell_type": "code",
   "execution_count": null,
   "metadata": {
    "_uuid": "b5979db1bcf0777894cf0aeca203380be6d5c766"
   },
   "outputs": [],
   "source": [
    "class CustomSelector(TransformerMixin, BaseEstimator):\n",
    "    def __init__(self, features):\n",
    "        self.features = features\n",
    "    \n",
    "    def fit(self, x, y=None):\n",
    "        return self\n",
    "    \n",
    "    def transform(self, x, y=None):\n",
    "        return x[self.features]"
   ]
  },
  {
   "cell_type": "code",
   "execution_count": null,
   "metadata": {
    "_kg_hide-output": false,
    "_uuid": "aa30982442cb2c88026e7daf310c02cbe3243971",
    "scrolled": true
   },
   "outputs": [],
   "source": [
    "scaleData = Pipeline([\n",
    "    ('selector', CustomSelector(['walkDistance', 'swimDistance', 'rideDistance', 'vehicleDestroys', 'assists', 'boosts', 'damageDealt', 'DBNOs', \n",
    "                                 'headshotKills', 'heals', 'killPlace', 'killPoints', 'killStreaks', 'longestKill', 'revives', 'roadKills', \n",
    "                                 'weaponsAcquired', 'winPoints'])),\n",
    "    ('std_scaler', StandardScaler())\n",
    "])"
   ]
  },
  {
   "cell_type": "markdown",
   "metadata": {
    "_uuid": "4431d0afd9dc7348798080b2bdcfb82a50e93434"
   },
   "source": [
    "**Clean Data**"
   ]
  },
  {
   "cell_type": "code",
   "execution_count": null,
   "metadata": {
    "_uuid": "227da17ea8bfe0766b480af25bc6fa96eb06d638"
   },
   "outputs": [],
   "source": [
    "train_x = featureClean(train_x)\n",
    "test_x = featureClean(test_x)"
   ]
  },
  {
   "cell_type": "code",
   "execution_count": null,
   "metadata": {
    "_uuid": "1287d73d050ae788f0387a55c4205018a4abc042"
   },
   "outputs": [],
   "source": [
    "train_y = train_x.pop('winPlacePerc')"
   ]
  },
  {
   "cell_type": "code",
   "execution_count": null,
   "metadata": {
    "_uuid": "0068c3e77518e20855613b5ae25ec92f6bf018fb"
   },
   "outputs": [],
   "source": [
    "train_x[['walkDistance', 'swimDistance', 'rideDistance', 'vehicleDestroys', 'assists', 'boosts', 'damageDealt', 'DBNOs', 'headshotKills', 'heals', 'killPlace',\n",
    "         'killPoints', 'killStreaks', 'longestKill', 'revives', 'roadKills', 'weaponsAcquired', 'winPoints']] = scaleData.fit_transform(train_x)\n",
    "\n",
    "test_x[['walkDistance', 'swimDistance', 'rideDistance', 'vehicleDestroys', 'assists', 'boosts', 'damageDealt', 'DBNOs', 'headshotKills', 'heals', 'killPlace',\n",
    "         'killPoints', 'killStreaks', 'longestKill', 'revives', 'roadKills', 'weaponsAcquired', 'winPoints']] = scaleData.transform(test_x)"
   ]
  },
  {
   "cell_type": "code",
   "execution_count": null,
   "metadata": {
    "_uuid": "952dc090522f9f69bfc16f51b8b1a510ad5e8e99",
    "scrolled": false
   },
   "outputs": [],
   "source": [
    "x = train_x[['matchType', 'walkDistance', 'swimDistance', 'rideDistance', 'vehicleDestroys', 'assists', 'boosts', 'damageDealt', 'DBNOs', \n",
    "                   'headshotKills', 'heals', 'killPlace', 'killPoints', 'killStreaks', 'longestKill', 'revives', 'roadKills', 'teamKills', \n",
    "                   'weaponsAcquired', 'winPoints']]  # features used in model building\n",
    "y = train_y"
   ]
  },
  {
   "cell_type": "code",
   "execution_count": null,
   "metadata": {
    "_uuid": "b6f5941658747801fb8601b71497af1e4be195ed"
   },
   "outputs": [],
   "source": [
    "x_test = test_x[['matchType', 'walkDistance', 'swimDistance', 'rideDistance', 'vehicleDestroys', 'assists', 'boosts', 'damageDealt', 'DBNOs', \n",
    "                   'headshotKills', 'heals', 'killPlace', 'killPoints', 'killStreaks', 'longestKill', 'revives', 'roadKills', 'teamKills', \n",
    "                   'weaponsAcquired', 'winPoints']]"
   ]
  },
  {
   "cell_type": "markdown",
   "metadata": {
    "_uuid": "c5ac78f4f4109fe6903a7dfa882712178aef5a01"
   },
   "source": [
    "**Model Building**"
   ]
  },
  {
   "cell_type": "code",
   "execution_count": null,
   "metadata": {
    "_uuid": "1eb0eb7757353bd39e0f382562e9bb4a6cb2f6c7"
   },
   "outputs": [],
   "source": [
    "from sklearn.ensemble import RandomForestRegressor\n",
    "from sklearn.model_selection import GridSearchCV, KFold, ShuffleSplit\n",
    "import lightgbm as lgb\n",
    "from sklearn.metrics import mean_absolute_error"
   ]
  },
  {
   "cell_type": "code",
   "execution_count": null,
   "metadata": {
    "_uuid": "1f243e1dbcb4b35041b0eadf63bd1454620d1ef2"
   },
   "outputs": [],
   "source": [
    "'''\n",
    "params = [\n",
    "    {'n_estimators': [50, 100], 'max_features': [8, 12]},\n",
    "    {'bootstrap': [False]}\n",
    "]\n",
    "forest_reg = RandomForestRegressor(random_state=0, min_samples_leaf=20)\n",
    "grid_search = GridSearchCV(forest_reg, params, cv=5, scoring='neg_mean_absolute_error')\n",
    "'''"
   ]
  },
  {
   "cell_type": "code",
   "execution_count": null,
   "metadata": {
    "_uuid": "96752bd164121b4225dd90e192ec756616138e14"
   },
   "outputs": [],
   "source": [
    "'''\n",
    "grid_search.fit(train_x, train_y)\n",
    "cvres = grid_search.cv_results_\n",
    "for mean_score, params in sorted(zip(cvres['mean_test_score'], cvres['params'])):\n",
    "    print(-mean_score, params)\n",
    "'''"
   ]
  },
  {
   "cell_type": "code",
   "execution_count": null,
   "metadata": {
    "_uuid": "cf384fcec1c9c3f80d44dc266461a3ae3865022f"
   },
   "outputs": [],
   "source": [
    "'''\n",
    "forest_reg = RandomForestRegressor(n_estimators=100, random_state=0, min_samples_leaf = 10, max_features=12, bootstrap=True)\n",
    "forest_reg.fit(train_x, train_y)\n",
    "prediction = forest_reg.predict(test_x)\n",
    "'''"
   ]
  },
  {
   "cell_type": "code",
   "execution_count": null,
   "metadata": {
    "_uuid": "7664cc32ba21662f60303b41d52f6a1c386786b0"
   },
   "outputs": [],
   "source": [
    "max_rounds = 5000\n",
    "ss = ShuffleSplit(n_splits=1, random_state=0)\n",
    "for train_index, test_index in ss.split(x, y):\n",
    "    x_train, y_train = x.iloc[train_index], y.iloc[train_index]\n",
    "    x_val, y_val = x.iloc[test_index], y.iloc[test_index]\n",
    "    \n",
    "    params = {\n",
    "        'objective': 'regression',\n",
    "        'learning_rate': 0.05,\n",
    "        'bagging_fraction': 0.8,\n",
    "        'min_data_in_leaf': 20,\n",
    "        'metric': 'l2'\n",
    "    }\n",
    "    \n",
    "    train_dataset = lgb.Dataset(x_train, label=y_train)\n",
    "    eval_dataset = lgb.Dataset(x_val, label=y_val)\n",
    "    \n",
    "    lgb_reg = lgb.train(params, train_set=train_dataset, num_boost_round=max_rounds,\n",
    "                       valid_sets=eval_dataset, early_stopping_rounds=50, verbose_eval=10)"
   ]
  },
  {
   "cell_type": "code",
   "execution_count": null,
   "metadata": {
    "_uuid": "059a01e42ed181fee593c925674ea0c091b2527b"
   },
   "outputs": [],
   "source": [
    "prediction = lgb_reg.predict(x_test, num_iteration=lgb_reg.best_iteration or max_rounds)"
   ]
  },
  {
   "cell_type": "code",
   "execution_count": null,
   "metadata": {
    "_uuid": "59bfe65f6835c5aac7ab79aead440905e3a93bbd"
   },
   "outputs": [],
   "source": [
    "submission = pd.read_csv('../input/sample_submission.csv')\n",
    "submission['winPlacePerc'] = np.clip(prediction, 0, 1)\n",
    "submission.to_csv('submissionlgb.csv', index=False)"
   ]
  }
 ],
 "metadata": {
  "kernelspec": {
   "display_name": "Python 3",
   "language": "python",
   "name": "python3"
  },
  "language_info": {
   "codemirror_mode": {
    "name": "ipython",
    "version": 3
   },
   "file_extension": ".py",
   "mimetype": "text/x-python",
   "name": "python",
   "nbconvert_exporter": "python",
   "pygments_lexer": "ipython3",
   "version": "3.7.0"
  }
 },
 "nbformat": 4,
 "nbformat_minor": 2
}
