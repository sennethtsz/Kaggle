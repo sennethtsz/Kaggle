{
 "cells": [
  {
   "cell_type": "code",
   "execution_count": null,
   "metadata": {},
   "outputs": [],
   "source": [
    "%matplotlib inline\n",
    "matplotlib.rcParams['savefig.dpi'] = 144\n",
    "\n",
    "import matplotlib\n",
    "import seaborn as sns\n",
    "import numpy as np\n",
    "import pandas as pd"
   ]
  },
  {
   "cell_type": "code",
   "execution_count": null,
   "metadata": {},
   "outputs": [],
   "source": [
    "train_x = pd.read_csv('./UCI_Credit_Card_train.csv', index_col=False)\n",
    "train_y = data.pop('default.payment.next.month')  # default = 1, no default = 0\n",
    "test_x = pd.read_csv('./UCI_Credit_Card_test.csv', index_col=False)"
   ]
  },
  {
   "cell_type": "code",
   "execution_count": null,
   "metadata": {},
   "outputs": [],
   "source": [
    "billing_data = data.drop(['SEX', 'EDUCATION', 'MARRIAGE', 'AGE'], axis=1)\n",
    "test_data = test.drop(['SEX', 'EDUCATION', 'MARRIAGE', 'AGE'], axis=1)"
   ]
  },
  {
   "cell_type": "code",
   "execution_count": null,
   "metadata": {},
   "outputs": [],
   "source": [
    "from sklearn.pipeline import Pipeline, FeatureUnion\n",
    "from sklearn.base import TransformerMixin, BaseEstimator"
   ]
  },
  {
   "cell_type": "code",
   "execution_count": null,
   "metadata": {},
   "outputs": [],
   "source": [
    "class feature_selector(TransformerMixin, BaseEstimator):\n",
    "    def __init__(self, features):\n",
    "        self.features = features\n",
    "    \n",
    "    def fit(self, x, y=None):\n",
    "        return self\n",
    "\n",
    "    def transform(self, x, y=None):\n",
    "        return x[self.features]"
   ]
  },
  {
   "cell_type": "code",
   "execution_count": null,
   "metadata": {},
   "outputs": [],
   "source": [
    "class EstTransformer(BaseEstimator, TransformerMixin):\n",
    "    def __init__(self, estimator):\n",
    "        self.estimator = estimator\n",
    "    \n",
    "    def fit(self, X, y):\n",
    "        self.estimator.fit(X, y)\n",
    "        return self\n",
    "\n",
    "    def transform(self, X):\n",
    "        return np.atleast_2d(self.estimator.predict(X)).T"
   ]
  },
  {
   "cell_type": "code",
   "execution_count": null,
   "metadata": {},
   "outputs": [],
   "source": [
    "billing_pipeline = Pipeline([\n",
    "    ('selector', feature_selector(['LIMIT_BAL', 'PAY_0', 'PAY_2', 'PAY_3',\n",
    "                                  'PAY_4', 'PAY_5', 'PAY_6', 'BILL_AMT1', \n",
    "                                  'BILL_AMT2', 'BILL_AMT3', 'BILL_AMT4', \n",
    "                                  'BILL_AMT5', 'BILL_AMT6', 'PAY_AMT1', \n",
    "                                  'PAY_AMT2', 'PAY_AMT3', 'PAY_AMT4', \n",
    "                                  'PAY_AMT5', 'PAY_AMT6'])),\n",
    "    ('forest', EstTransformer(RandomForestClassifier(random_state=0, \n",
    "                                                     n_estimators=100)))\n",
    "])\n",
    "\n",
    "demo_pipeline = Pipeline([\n",
    "    ('selector', feature_selector(['SEX', 'EDUCATION', 'MARRIAGE', 'AGE',\n",
    "                                   'LIMIT_BAL'])),\n",
    "    ('forest1', EstTransformer(RandomForestClassifier(random_state=1, \n",
    "                                                      n_estimators=100)))\n",
    "])"
   ]
  },
  {
   "cell_type": "code",
   "execution_count": null,
   "metadata": {},
   "outputs": [],
   "source": [
    "union = FeatureUnion(transformer_list=[\n",
    "    ('billing_data', billing_pipeline),\n",
    "    ('demo_data', demo_pipeline)\n",
    "])"
   ]
  },
  {
   "cell_type": "code",
   "execution_count": null,
   "metadata": {},
   "outputs": [],
   "source": [
    "ensemble_model = Pipeline([\n",
    "    ('first_layer_stacking', union),\n",
    "    ('blender', LogisticRegression())\n",
    "])"
   ]
  },
  {
   "cell_type": "code",
   "execution_count": null,
   "metadata": {},
   "outputs": [],
   "source": [
    "ensemble_model.fit(train_x, train_y)\n",
    "proba = ensemble_model.predict_proba(test_x)"
   ]
  },
  {
   "cell_type": "code",
   "execution_count": null,
   "metadata": {},
   "outputs": [],
   "source": [
    "prediction = ensemble_model.predict(test_x)"
   ]
  }
 ],
 "metadata": {
  "kernelspec": {
   "display_name": "Python 3",
   "language": "python",
   "name": "python3"
  },
  "language_info": {
   "codemirror_mode": {
    "name": "ipython",
    "version": 3
   },
   "file_extension": ".py",
   "mimetype": "text/x-python",
   "name": "python",
   "nbconvert_exporter": "python",
   "pygments_lexer": "ipython3",
   "version": "3.7.0"
  }
 },
 "nbformat": 4,
 "nbformat_minor": 2
}
